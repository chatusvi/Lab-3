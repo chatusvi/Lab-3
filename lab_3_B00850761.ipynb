{
  "nbformat": 4,
  "nbformat_minor": 0,
  "metadata": {
    "language_info": {
      "codemirror_mode": {
        "name": "ipython",
        "version": 3
      },
      "file_extension": ".py",
      "mimetype": "text/x-python",
      "name": "python",
      "nbconvert_exporter": "python",
      "pygments_lexer": "ipython3",
      "version": "3.8.1-final"
    },
    "orig_nbformat": 2,
    "kernelspec": {
      "name": "python38164bit8081a11a70df49239e80390d03ac8399",
      "display_name": "Python 3.8.1 64-bit"
    },
    "colab": {
      "name": "lab_3_homework.ipynb",
      "provenance": [],
      "collapsed_sections": []
    }
  },
  "cells": [
    {
      "cell_type": "code",
      "metadata": {
        "id": "0eFw_ExarLio",
        "colab_type": "code",
        "colab": {
          "base_uri": "https://localhost:8080/",
          "height": 103
        },
        "outputId": "76200a11-4150-4abd-b4a2-7a9f2a3717e1"
      },
      "source": [
        "file = open('words.txt') #file\n",
        "dic ={} #d\n",
        "response = [] #res\n",
        "for li in file:\n",
        "    w = li.strip()\n",
        "    ti = list(w)\n",
        "    ti.sort()\n",
        "    ti = ''.join(ti)\n",
        "    if ti not in dic:\n",
        "      dic[ti] = [w]\n",
        "    else:\n",
        "      dic[ti].append(w)\n",
        "anagram_list = []\n",
        "for i in dic:\n",
        "  anagram_list.append(dic[i])\n",
        "  anagram_list.sort(key=len, reverse=True)\n",
        "for i in range(0, 5):\n",
        "    print(\"%s) %d\" % ((i + 1), len(anagram_list[i])), anagram_list[i])"
      ],
      "execution_count": 4,
      "outputs": [
        {
          "output_type": "stream",
          "text": [
            "1) 11 ['alerts', 'alters', 'artels', 'estral', 'laster', 'ratels', 'salter', 'slater', 'staler', 'stelar', 'talers']\n",
            "2) 11 ['apers', 'asper', 'pares', 'parse', 'pears', 'prase', 'presa', 'rapes', 'reaps', 'spare', 'spear']\n",
            "3) 10 ['least', 'setal', 'slate', 'stale', 'steal', 'stela', 'taels', 'tales', 'teals', 'tesla']\n",
            "4) 9 ['capers', 'crapes', 'escarp', 'pacers', 'parsec', 'recaps', 'scrape', 'secpar', 'spacer']\n",
            "5) 9 ['estrin', 'inerts', 'insert', 'inters', 'niters', 'nitres', 'sinter', 'triens', 'trines']\n"
          ],
          "name": "stdout"
        }
      ]
    },
    {
      "cell_type": "code",
      "metadata": {
        "id": "GbuXE1tErLi2",
        "colab_type": "code",
        "colab": {
          "base_uri": "https://localhost:8080/",
          "height": 34
        },
        "outputId": "22f3be9e-2dab-44d7-ebe0-6e3fed9afc2f"
      },
      "source": [
        "import random\n",
        "def are_duplicate(lis):\n",
        "    c = 0\n",
        "    check = set()\n",
        "    for i in lis:\n",
        "        if i in check:\n",
        "            c += 1\n",
        "        check.add(i)\n",
        "    return c\n",
        "def generate_bday():\n",
        "    lis = [random.randint(1,365) for i in range(23)]\n",
        "    return lis\n",
        "dupli_count = 0\n",
        "for i in range(500):\n",
        "    dupli_count += are_duplicate(generate_bday())\n",
        "prob = (float(dupli_count) / 500)* 100\n",
        "print(\"probability of persons with same birthday in 500 classes:\", round(prob))"
      ],
      "execution_count": 5,
      "outputs": [
        {
          "output_type": "stream",
          "text": [
            "probability of persons with same birthday in 500 classes: 71\n"
          ],
          "name": "stdout"
        }
      ]
    },
    {
      "cell_type": "code",
      "metadata": {
        "id": "klINiaCvrLi_",
        "colab_type": "code",
        "colab": {}
      },
      "source": [
        ""
      ],
      "execution_count": 0,
      "outputs": []
    },
    {
      "cell_type": "code",
      "metadata": {
        "id": "6brd8ob6rLjI",
        "colab_type": "code",
        "colab": {}
      },
      "source": [
        ""
      ],
      "execution_count": 0,
      "outputs": []
    },
    {
      "cell_type": "code",
      "metadata": {
        "id": "D9zThuw1rLjV",
        "colab_type": "code",
        "colab": {}
      },
      "source": [
        ""
      ],
      "execution_count": 0,
      "outputs": []
    }
  ]
}